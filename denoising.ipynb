{
 "cells": [
  {
   "cell_type": "code",
   "execution_count": null,
   "id": "854b1c78-495e-494d-b80f-5fc3c253ba52",
   "metadata": {},
   "outputs": [],
   "source": [
    "import dynamiqs as dq"
   ]
  },
  {
   "cell_type": "code",
   "execution_count": null,
   "id": "e4fc7f3c-7b24-4497-b094-2742b77347a9",
   "metadata": {},
   "outputs": [],
   "source": []
  }
 ],
 "metadata": {
  "kernelspec": {
   "display_name": "Python 3 (ipykernel)",
   "language": "python",
   "name": "python3"
  },
  "language_info": {
   "codemirror_mode": {
    "name": "ipython",
    "version": 3
   },
   "file_extension": ".py",
   "mimetype": "text/x-python",
   "name": "python",
   "nbconvert_exporter": "python",
   "pygments_lexer": "ipython3",
   "version": "3.11.12"
  }
 },
 "nbformat": 4,
 "nbformat_minor": 5
}
