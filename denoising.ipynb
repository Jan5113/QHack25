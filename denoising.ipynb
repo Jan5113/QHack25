{
 "cells": [
  {
   "cell_type": "code",
   "execution_count": 5,
   "id": "854b1c78-495e-494d-b80f-5fc3c253ba52",
   "metadata": {},
   "outputs": [],
   "source": [
    "import dynamiqs as dq\n",
    "import jax\n",
    "import jax.numpy as jnp\n",
    "import matplotlib.pyplot as plt\n",
    "import pandas as pd\n",
    "import numpy as np\n",
    "from scipy.integrate import simpson\n",
    "from scipy.ndimage import gaussian_filter"
   ]
  },
  {
   "cell_type": "markdown",
   "id": "7ec3b911-d5b7-4ace-8419-68eb150ea092",
   "metadata": {},
   "source": [
    "# Task A"
   ]
  },
  {
   "cell_type": "markdown",
   "id": "6e3e3e37-d1d4-4a03-b8b2-053920683ee4",
   "metadata": {},
   "source": [
    "## Utility Functions"
   ]
  },
  {
   "cell_type": "code",
   "execution_count": 8,
   "id": "faa23598-42ab-4982-bb5e-1a78f4e97528",
   "metadata": {},
   "outputs": [],
   "source": [
    "#utility functions for affine distortions\n",
    "#affinely distort wigner function\n",
    "def affine_distort(wigner, alpha, b):\n",
    "    return alpha*wigner+b\n",
    "\n",
    "#add gaussian noise to wigner function\n",
    "def add_gaussian_noise(wigner, sigma):\n",
    "    noise = sigma*jax.random.normal(jax.random.key(0), wigner.shape)\n",
    "    return jnp.add(wigner, noise)\n",
    "\n",
    "def add_affine_gaussian_noise(wigner, alpha, b, sigma):\n",
    "    #add afine first\n",
    "    affine_wigner = affine_distort(wigner, alpha, b)\n",
    "    #add gaussian noise\n",
    "    return add_gaussian_noise(affine_wigner, sigma)\n",
    "\n",
    "#calculate the norm of a wigner function\n",
    "def integrate_wigner(wigner, x, y):\n",
    "    return simpson(simpson(wigner, y), x)\n",
    "\n",
    "#calculate the b value of the affine distortion\n",
    "def recover_affine_offset(wigner):\n",
    "    x_len, y_len = wigner.shape\n",
    "    #assuming the corners don't make too much of a difference\n",
    "    return 0.25*(jnp.mean(wigner[0,:]) + jnp.mean(wigner[x_len-1,:]) + jnp.mean(wigner[:,0]) + jnp.mean(wigner[:,y_len-1]))\n",
    "\n",
    "#calculate the alpha value of the affine distortion\n",
    "def recover_affine_scaling(zeroed_wigner, x, y):\n",
    "    return integrate_wigner(zeroed_wigner, x, y)\n",
    "\n",
    "#remove the affine distortion of a wigner function\n",
    "def remove_affine_distortion(affine_wigner, x, y):\n",
    "    b = recover_affine_offset(affine_wigner)\n",
    "    zeroed_affined_wigner = affine_wigner - b\n",
    "    alpha = recover_affine_scaling(wigner, x, y)\n",
    "    return zeroed_affine_wigner/alpha\n",
    "\n",
    "#run the simple affine denoising + gaussian filter pipeline\n",
    "def remove_affine_gaussian_noise(noisy_wigner, x, y, sigma):\n",
    "    #remove affine noise\n",
    "    affine_less_wigner = remove_affine_distrotion(noisy_wigner, x, y)\n",
    "    #apply gaussian filter\n",
    "    filtered_wigner = gaussian_filter(affine_less_wigner, sigma)\n",
    "    return filtered_wigner"
   ]
  },
  {
   "cell_type": "markdown",
   "id": "13676411-7edb-4174-ae79-f39f1300366e",
   "metadata": {},
   "source": [
    "## Benchmarking"
   ]
  },
  {
   "cell_type": "code",
   "execution_count": 9,
   "id": "c9222b87-368c-407b-b4b3-c1ba47a58059",
   "metadata": {},
   "outputs": [
    {
     "ename": "SyntaxError",
     "evalue": "invalid syntax (3973140369.py, line 3)",
     "output_type": "error",
     "traceback": [
      "  \u001b[36mCell\u001b[39m\u001b[36m \u001b[39m\u001b[32mIn[9]\u001b[39m\u001b[32m, line 3\u001b[39m\n\u001b[31m    \u001b[39m\u001b[31mdef affine_benchmark(reference_state, max_alpha_ max_b, max_gauss_sigma, max_filter_sigma):\u001b[39m\n                                                     ^\n\u001b[31mSyntaxError\u001b[39m\u001b[31m:\u001b[39m invalid syntax\n"
     ]
    }
   ],
   "source": [
    "#give an input state\n",
    "#the benchmark will compare the reconstruction pipeline for noisy and simply denoised data\n",
    "def affine_only_benchmark(reference_state, max_alpha, max_b):\n",
    "    #setup the references/truths\n",
    "    reference_dm = dq.todm(reference_state)\n",
    "    x, y, reference_wigner = dq.wigner(reference_state)\n",
    "\n",
    "    #add noise to the wigner function\n",
    "    v_alpha = np.linspace(0, max_alpha, 5)\n",
    "    v_b = np.linspace(0, max_b, 5)\n",
    "    noisy_wigner_stack = add_affine_gaussian_noise(reference_wigner, v_alpha, v_b, 0)\n",
    "    #reconstruct from noisy data\n",
    "    noisy_rho_stack = fit ...\n",
    "    noisy_fidelity = dq.fidelity\n",
    "\n",
    "    #denoise\n",
    "    denoised_wigner_stack = remove_affine_gaussian_noise(noisy_wigner_stack, x, y, 0)\n",
    "    #reconstruct from denoised data\n",
    "    \n",
    "\n",
    "\n",
    "    return fidelity\n",
    "\n"
   ]
  },
  {
   "cell_type": "code",
   "execution_count": 10,
   "id": "438308e1-afd9-4acd-884c-ebfb4d96ff6d",
   "metadata": {},
   "outputs": [
    {
     "data": {
      "text/plain": [
       "array([ 0.,  1.,  2.,  3.,  4.,  5.,  6.,  7.,  8.,  9., 10.])"
      ]
     },
     "execution_count": 10,
     "metadata": {},
     "output_type": "execute_result"
    }
   ],
   "source": [
    "def gauss_only_benchmark(reference_state, max_noise_sigma, max_filter_sigma):\n",
    "    #setup the references/truths\n",
    "    reference_dm = dq.todm(reference_state)\n",
    "    x, y, reference_wigner = dq.wigner(reference_state)\n",
    "\n",
    "    #add noise to the wigner function\n",
    "    v_noise_sigma = np.linspace(0, max_noise_sigma, 5)\n",
    "    noisy_wigner_stack = add_affine_gaussian_noise(reference_wigner, 1, 0, v_noise_sigma)\n",
    "\n",
    "    #reconstruct from noisy data\n",
    "    noisy_rho_stack = fit ...\n",
    "    noisy_fidelity = dq.fidelity\n",
    "\n",
    "    #denoise\n",
    "    v_filter_sigma = np.linspace(0, max_filter_sigma, 5)\n",
    "    denoised_wigner_stack = remove_affine_gaussian_noise(noisy_wigner_stack, x, y, v_filter_sigma)\n",
    "    #reconstruct from denoised data\n",
    "\n",
    "    \n",
    "    \n",
    "    \n",
    "    return fidelity"
   ]
  },
  {
   "cell_type": "code",
   "execution_count": null,
   "id": "685c2eca-2237-491f-8983-90be4a886a57",
   "metadata": {},
   "outputs": [],
   "source": []
  }
 ],
 "metadata": {
  "kernelspec": {
   "display_name": "Python 3 (ipykernel)",
   "language": "python",
   "name": "python3"
  },
  "language_info": {
   "codemirror_mode": {
    "name": "ipython",
    "version": 3
   },
   "file_extension": ".py",
   "mimetype": "text/x-python",
   "name": "python",
   "nbconvert_exporter": "python",
   "pygments_lexer": "ipython3",
   "version": "3.11.12"
  }
 },
 "nbformat": 4,
 "nbformat_minor": 5
}
