{
 "cells": [
  {
   "cell_type": "code",
   "execution_count": 5,
   "id": "854b1c78-495e-494d-b80f-5fc3c253ba52",
   "metadata": {},
   "outputs": [],
   "source": [
    "import dynamiqs as dq\n",
    "import jax\n",
    "import jax.numpy as jnp\n",
    "import matplotlib.pyplot as plt\n",
    "import pandas as pd\n",
    "import numpy as np\n",
    "from scipy.integrate import simpson\n",
    "from scipy.ndimage import gaussian_filter"
   ]
  },
  {
   "cell_type": "markdown",
   "id": "7ec3b911-d5b7-4ace-8419-68eb150ea092",
   "metadata": {},
   "source": [
    "# Task A"
   ]
  },
  {
   "cell_type": "code",
   "execution_count": 7,
   "id": "faa23598-42ab-4982-bb5e-1a78f4e97528",
   "metadata": {},
   "outputs": [],
   "source": [
    "#utility functions for affine distortions\n",
    "#affinely distort wigner function\n",
    "def affine_distort(wigner, alpha, b):\n",
    "    return alpha*wigner+b\n",
    "\n",
    "#add gaussian noise to wigner function\n",
    "def add_gaussian_noise(wigner, sigma):\n",
    "    noise = sigma*jax.random.normal(jax.random.key(0), wigner.shape)\n",
    "    return jnp.add(wigner, noise)\n",
    "\n",
    "#calculate the norm of a wigner function\n",
    "def integrate_wigner(wigner, x, y):\n",
    "    return simpson(simpson(wigner, y), x)\n",
    "\n",
    "#calculate the b value of the affine distortion\n",
    "def recover_affine_offset(wigner):\n",
    "    x_len, y_len = wigner.shape\n",
    "    #assuming the corners don't make too much of a difference\n",
    "    return 0.25*(jnp.mean(wigner[0,:]) + jnp.mean(wigner[x_len-1,:]) + jnp.mean(wigner[:,0]) + jnp.mean(wigner[:,y_len-1]))\n",
    "\n",
    "#calculate the alpha value of the affine distortion\n",
    "def recover_affine_scaling(zeroed_wigner, x, y):\n",
    "    return integrate_wigner(zeroed_wigner, x, y)\n",
    "\n",
    "#remove the affine distortion of a wigner function\n",
    "def remove_affine_distortion(affine_wigner, x, y):\n",
    "    b = recover_affine_offset(affine_wigner)\n",
    "    zeroed_affined_wigner = affine_wigner - b\n",
    "    alpha = recover_affine_scaling(wigner, x, y)\n",
    "    return zeroed_affine_wigner/alpha\n",
    "\n",
    "#run the simple affine denoising + gaussian filter pipeline\n",
    "def remove_affine_gaussian_noise(noisy_wigner, x, y, sigma):\n",
    "    #remove affine noise\n",
    "    affine_less_wigner = remove_affine_distrotion(noisy_wigner, x, y)\n",
    "    #apply gaussian filter\n",
    "    filtered_wigner = gaussian_filter(affine_less_wigner, sigma)\n",
    "    return filtered_wigner"
   ]
  },
  {
   "cell_type": "code",
   "execution_count": null,
   "id": "49932c59-48d1-428e-af40-91dc77eeb57a",
   "metadata": {},
   "outputs": [],
   "source": []
  }
 ],
 "metadata": {
  "kernelspec": {
   "display_name": "Python 3 (ipykernel)",
   "language": "python",
   "name": "python3"
  },
  "language_info": {
   "codemirror_mode": {
    "name": "ipython",
    "version": 3
   },
   "file_extension": ".py",
   "mimetype": "text/x-python",
   "name": "python",
   "nbconvert_exporter": "python",
   "pygments_lexer": "ipython3",
   "version": "3.11.12"
  }
 },
 "nbformat": 4,
 "nbformat_minor": 5
}
