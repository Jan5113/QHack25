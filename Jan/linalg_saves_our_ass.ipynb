{
 "cells": [
  {
   "cell_type": "code",
   "execution_count": 7,
   "id": "801d6279-740f-4d3b-abe4-58cfb7824f4e",
   "metadata": {},
   "outputs": [],
   "source": [
    "import dynamiqs as dq\n",
    "import jax.numpy as jnp\n",
    "import numpy as np\n",
    "from sklearn.linear_model import LinearRegression"
   ]
  },
  {
   "cell_type": "code",
   "execution_count": 9,
   "id": "67507458-05b1-472b-bb03-05177bdc440f",
   "metadata": {},
   "outputs": [],
   "source": [
    "class state_sampler:\n",
    "    def __init__(self, state, noise=False):\n",
    "        self.dim = state.dims[0]\n",
    "        self.state = state\n",
    "        self.X, self.Y, self.W = dq.wigner(state)\n",
    "        self.noise = noise\n",
    "\n",
    "    def get_sample(self,x):\n",
    "        ndim = len(np.array(x).shape)\n",
    "        if ndim==1:\n",
    "            val = np.float32(sampler.W[np.argmin(np.abs(self.X-x[0]))][np.argmin(np.abs(self.Y-x[1]))])\n",
    "            return val + self.noise * np.random.rand() if self.noise else val\n",
    "        elif ndim==2:\n",
    "            return np.array([self.get_sample(y) for y in x])\n",
    "        print(f\"NOPE ndim={ndim}\")\n",
    "        return\n",
    "        "
   ]
  },
  {
   "cell_type": "code",
   "execution_count": 29,
   "id": "460d78ad-0548-486d-b07a-1616a71cfd46",
   "metadata": {},
   "outputs": [],
   "source": [
    "def ketbra(n,m,dim=5):\n",
    "    if n == m:\n",
    "        return dq.fock(dim,n)@dq.fock(dim,m).dag()\n",
    "    elif n < m:\n",
    "        return (dq.fock(dim,n)@dq.fock(dim,m).dag() + dq.fock(dim,m)@dq.fock(dim,n).dag())/np.sqrt(2)\n",
    "    else: # n > m\n",
    "        return -1j*(dq.fock(dim,n)@dq.fock(dim,m).dag() - dq.fock(dim,m)@dq.fock(dim,n).dag())/np.sqrt(2)\n",
    "\n",
    "def get_dm(rho):\n",
    "    dim = round(np.sqrt(len(rho)))\n",
    "    return dq.asqarray(np.sum([rho[n+m*dim] * ketbra(n,m,dim) for m in range(dim) for n in range(dim)], axis=0))\n",
    "\n",
    "def get_vec(rho_dm):\n",
    "    dim = len(rho_dm)\n",
    "    return [np.trace(ketbra(n,m,dim)@rho_dm) for m in range(dim) for n in range(dim)]\n",
    "\n",
    "class Kerneliser:\n",
    "    def __init__(self, dim=5):\n",
    "        self.dim = dim\n",
    "        self.X, self.Y, _ = dq.wigner(ketbra(0,0, dim=dim))\n",
    "        self.wigners = [[dq.wigner(ketbra(n,m,dim=dim))[2] for m in range(dim)] for n in range(dim)]\n",
    "\n",
    "    def get_kernel(self, x):\n",
    "        ndim = len(np.array(x).shape)\n",
    "        if ndim==1:\n",
    "            idxs = [np.argmin(np.abs(self.X-x[0])), np.argmin(np.abs(self.Y-x[1]))]\n",
    "            return np.array([self.wigners[n][m][idxs[0]][idxs[1]] for m in range(self.dim) for n in range(self.dim)])\n",
    "        elif ndim==2:\n",
    "            return np.array([self.get_kernel(y) for y in x])\n",
    "        print(f\"NOPE ndim={ndim}\")\n",
    "        return"
   ]
  },
  {
   "cell_type": "code",
   "execution_count": 30,
   "id": "3c8533f1-a8c6-43d9-945e-831e9a2a1787",
   "metadata": {},
   "outputs": [],
   "source": [
    "dim = 7\n",
    "kerneliser = Kerneliser(dim)"
   ]
  },
  {
   "cell_type": "code",
   "execution_count": 31,
   "id": "19cb20b3-b20b-4ea7-b603-95e2369b3129",
   "metadata": {},
   "outputs": [],
   "source": [
    "n_points = 250\n",
    "sampler = state_sampler(dq.coherent(dim,1), 0.5)\n",
    "\n",
    "x_training = np.random.uniform(-2, 2, n_points * 2).reshape(-1, 2)\n",
    "y_training = sampler.get_sample(x_training)\n",
    "phi_training = kerneliser.get_kernel(x_training)"
   ]
  },
  {
   "cell_type": "code",
   "execution_count": 32,
   "id": "92875acb-ea16-454d-ba37-d1a475dbba99",
   "metadata": {},
   "outputs": [
    {
     "data": {
      "text/plain": [
       "Array(1.0000001, dtype=float32)"
      ]
     },
     "execution_count": 32,
     "metadata": {},
     "output_type": "execute_result"
    }
   ],
   "source": [
    "reg = LinearRegression().fit(phi_training, y_training)\n",
    "dm_out = get_dm(reg.coef_)\n",
    "dm_out /= dq.norm(dm_out)\n",
    "dq.norm(dm_out)"
   ]
  },
  {
   "cell_type": "code",
   "execution_count": 33,
   "id": "bb6cd98b-d270-454e-b080-b021dd483b87",
   "metadata": {},
   "outputs": [
    {
     "data": {
      "text/plain": [
       "Array(0.7059199, dtype=float32)"
      ]
     },
     "execution_count": 33,
     "metadata": {},
     "output_type": "execute_result"
    }
   ],
   "source": [
    "dq.fidelity(sampler.state, dm_out)"
   ]
  },
  {
   "cell_type": "code",
   "execution_count": null,
   "id": "5a2b2b06-195c-4e5b-837d-e63d0c612211",
   "metadata": {},
   "outputs": [],
   "source": []
  }
 ],
 "metadata": {
  "kernelspec": {
   "display_name": "QEC Hackathon 25",
   "language": "python",
   "name": "qhack25"
  },
  "language_info": {
   "codemirror_mode": {
    "name": "ipython",
    "version": 3
   },
   "file_extension": ".py",
   "mimetype": "text/x-python",
   "name": "python",
   "nbconvert_exporter": "python",
   "pygments_lexer": "ipython3",
   "version": "3.13.2"
  }
 },
 "nbformat": 4,
 "nbformat_minor": 5
}
