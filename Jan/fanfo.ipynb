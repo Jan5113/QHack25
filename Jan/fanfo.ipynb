{
 "cells": [
  {
   "cell_type": "code",
   "execution_count": 1,
   "id": "0c4c161e-ab01-4ade-bcf2-666073333435",
   "metadata": {},
   "outputs": [],
   "source": [
    "import dynamiqs as dq\n",
    "import jax.numpy as jnp"
   ]
  },
  {
   "cell_type": "code",
   "execution_count": 2,
   "id": "16a175de-8222-480e-8b5a-35ca7213ae56",
   "metadata": {},
   "outputs": [
    {
     "name": "stderr",
     "output_type": "stream",
     "text": [
      "|█████████████████████████████████████████████████████████████████████████| 100.0% ◆ elapsed 10.76ms ◆ remaining 0.00ms"
     ]
    },
    {
     "name": "stdout",
     "output_type": "stream",
     "text": [
      "==== MESolveResult ====\n",
      "Method : Tsit5\n",
      "Infos  : 40 steps (40 accepted, 0 rejected)\n",
      "States : QArray complex64 (101, 16, 16) | 202.0 Kb\n"
     ]
    },
    {
     "name": "stderr",
     "output_type": "stream",
     "text": [
      "\n"
     ]
    }
   ],
   "source": [
    "# parameters\n",
    "n = 16          # Hilbert space dimension\n",
    "omega = 1.0     # frequency\n",
    "kappa = 0.1     # decay rate\n",
    "alpha0 = 1.0    # initial coherent state amplitude\n",
    "T = 2 * jnp.pi  # total evolution time (one full revolution)\n",
    "\n",
    "# initialize operators, initial state and saving times\n",
    "a = dq.destroy(n)\n",
    "H = omega * a.dag() @ a\n",
    "jump_ops = [jnp.sqrt(kappa) * a]\n",
    "psi0 = dq.coherent(n, alpha0)\n",
    "tsave = jnp.linspace(0, T, 101)\n",
    "\n",
    "# run simulation\n",
    "result = dq.mesolve(H, jump_ops, psi0, tsave)\n",
    "print(result)"
   ]
  },
  {
   "cell_type": "code",
   "execution_count": 1,
   "id": "fafa2f36-c150-40ee-9616-1e87fcd4f98c",
   "metadata": {},
   "outputs": [],
   "source": [
    "import dynamiqs as dq\n",
    "import jax.numpy as jnp\n",
    "import matplotlib.pyplot as plt\n",
    "\n",
    "dq.plot.mplstyle(dpi=150)  # set custom matplotlib style"
   ]
  },
  {
   "cell_type": "code",
   "execution_count": 2,
   "id": "1bb638d7-bd06-4d32-95f3-b795fe520a5b",
   "metadata": {},
   "outputs": [
    {
     "name": "stdout",
     "output_type": "stream",
     "text": [
      "State of type <class 'dynamiqs.qarrays.dense_qarray.DenseQArray'> and shape (2, 1).\n",
      "Hamiltonian of type <class 'dynamiqs.qarrays.sparsedia_qarray.SparseDIAQArray'> and shape (2, 2).\n"
     ]
    }
   ],
   "source": [
    "# initial state\n",
    "psi0 = dq.fock(2, 0)\n",
    "\n",
    "# Hamiltonian\n",
    "delta = 0.3  # detuning\n",
    "Omega = 1.0  # Rabi frequency\n",
    "H = delta * dq.sigmaz() + Omega * dq.sigmax()\n",
    "\n",
    "print(f\"State of type {type(psi0)} and shape {psi0.shape}.\")\n",
    "print(f\"Hamiltonian of type {type(H)} and shape {H.shape}.\")"
   ]
  },
  {
   "cell_type": "code",
   "execution_count": null,
   "id": "3da71090-1532-48a4-ac0f-a2eb341f746d",
   "metadata": {},
   "outputs": [],
   "source": []
  }
 ],
 "metadata": {
  "kernelspec": {
   "display_name": "QEC Hackathon 25",
   "language": "python",
   "name": "qhack25"
  },
  "language_info": {
   "codemirror_mode": {
    "name": "ipython",
    "version": 3
   },
   "file_extension": ".py",
   "mimetype": "text/x-python",
   "name": "python",
   "nbconvert_exporter": "python",
   "pygments_lexer": "ipython3",
   "version": "3.13.2"
  }
 },
 "nbformat": 4,
 "nbformat_minor": 5
}
